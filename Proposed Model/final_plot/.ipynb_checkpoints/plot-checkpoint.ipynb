{
 "cells": [
  {
   "cell_type": "code",
   "execution_count": 12,
   "id": "d8edfd08",
   "metadata": {},
   "outputs": [],
   "source": [
    "import matplotlib.pyplot as plt"
   ]
  },
  {
   "cell_type": "code",
   "execution_count": 2,
   "id": "f5ecf7f2",
   "metadata": {},
   "outputs": [
    {
     "name": "stdout",
     "output_type": "stream",
     "text": [
      "Showing the pickled data:\n",
      "The data  0  is :  epoch\n",
      "The data  1  is :  t\n",
      "The data  2  is :  accuracy\n",
      "The data  3  is :  acc_regime\n",
      "The data  4  is :  test_accuracy\n"
     ]
    }
   ],
   "source": [
    "import pickle\n",
    "\n",
    "# open a file, where you stored the pickled data\n",
    "file = open('model1/peformance.pickle', 'rb')\n",
    "\n",
    "# dump information to that file\n",
    "data = pickle.load(file)\n",
    "\n",
    "# close the file\n",
    "file.close()\n",
    "\n",
    "print('Showing the pickled data:')\n",
    "\n",
    "cnt = 0\n",
    "for item in data:\n",
    "    print('The data ', cnt, ' is : ', item)\n",
    "    cnt += 1"
   ]
  },
  {
   "cell_type": "code",
   "execution_count": 5,
   "id": "27892390",
   "metadata": {},
   "outputs": [
    {
     "data": {
      "text/plain": [
       "{'epoch': 19,\n",
       " 't': [1875,\n",
       "  3750,\n",
       "  5625,\n",
       "  7500,\n",
       "  9375,\n",
       "  11250,\n",
       "  13125,\n",
       "  15000,\n",
       "  16875,\n",
       "  18750,\n",
       "  20625,\n",
       "  22500,\n",
       "  24375,\n",
       "  26250,\n",
       "  28125,\n",
       "  30000,\n",
       "  31875,\n",
       "  33750,\n",
       "  35625],\n",
       " 'accuracy': [14.025,\n",
       "  19.305,\n",
       "  27.026666666666667,\n",
       "  32.62833333333333,\n",
       "  39.04833333333333,\n",
       "  45.07666666666667,\n",
       "  52.00666666666667,\n",
       "  57.07333333333333,\n",
       "  63.221666666666664,\n",
       "  67.70833333333333,\n",
       "  71.82,\n",
       "  75.35,\n",
       "  78.62666666666667,\n",
       "  81.01,\n",
       "  83.14833333333333,\n",
       "  85.115,\n",
       "  86.59833333333333,\n",
       "  88.425,\n",
       "  89.605],\n",
       " 'acc_regime': {'center_single': [14.719999999999999,\n",
       "   22.853333333333335,\n",
       "   32.56666666666666,\n",
       "   39.92666666666666,\n",
       "   47.45333333333333,\n",
       "   54.32,\n",
       "   62.306666666666665,\n",
       "   67.60000000000001,\n",
       "   74.73333333333333,\n",
       "   79.46,\n",
       "   83.29333333333334,\n",
       "   87.19333333333333,\n",
       "   90.22666666666666,\n",
       "   92.49333333333334,\n",
       "   94.01333333333334,\n",
       "   95.31333333333333,\n",
       "   96.29333333333334,\n",
       "   97.02,\n",
       "   97.72],\n",
       "  'distribute_four': [12.686666666666666,\n",
       "   17.273333333333333,\n",
       "   24.893333333333334,\n",
       "   30.0,\n",
       "   35.61333333333334,\n",
       "   41.35333333333333,\n",
       "   48.39333333333333,\n",
       "   54.42,\n",
       "   60.84666666666667,\n",
       "   66.31333333333333,\n",
       "   71.04,\n",
       "   74.60666666666667,\n",
       "   78.52,\n",
       "   80.85333333333334,\n",
       "   83.35333333333334,\n",
       "   85.90666666666667,\n",
       "   87.15333333333334,\n",
       "   88.74,\n",
       "   90.10666666666667],\n",
       "  'distribute_nine': [None,\n",
       "   None,\n",
       "   None,\n",
       "   None,\n",
       "   None,\n",
       "   None,\n",
       "   None,\n",
       "   None,\n",
       "   None,\n",
       "   None,\n",
       "   None,\n",
       "   None,\n",
       "   None,\n",
       "   None,\n",
       "   None,\n",
       "   None,\n",
       "   None,\n",
       "   None,\n",
       "   None],\n",
       "  'in_center_single_out_center_single': [None,\n",
       "   None,\n",
       "   None,\n",
       "   None,\n",
       "   None,\n",
       "   None,\n",
       "   None,\n",
       "   None,\n",
       "   None,\n",
       "   None,\n",
       "   None,\n",
       "   None,\n",
       "   None,\n",
       "   None,\n",
       "   None,\n",
       "   None,\n",
       "   None,\n",
       "   None,\n",
       "   None],\n",
       "  'in_distribute_four_out_center_single': [14.84,\n",
       "   17.486666666666668,\n",
       "   23.673333333333332,\n",
       "   29.759999999999998,\n",
       "   38.013333333333335,\n",
       "   45.58,\n",
       "   53.620000000000005,\n",
       "   59.86,\n",
       "   66.60666666666667,\n",
       "   71.8,\n",
       "   76.66666666666667,\n",
       "   80.69333333333333,\n",
       "   83.53333333333333,\n",
       "   85.73333333333333,\n",
       "   87.79333333333334,\n",
       "   89.37333333333333,\n",
       "   90.56666666666666,\n",
       "   91.90666666666667,\n",
       "   92.5],\n",
       "  'left_center_single_right_center_single': [13.853333333333333,\n",
       "   19.606666666666666,\n",
       "   26.973333333333333,\n",
       "   30.826666666666668,\n",
       "   35.11333333333334,\n",
       "   39.053333333333335,\n",
       "   43.70666666666666,\n",
       "   46.413333333333334,\n",
       "   50.7,\n",
       "   53.26,\n",
       "   56.279999999999994,\n",
       "   58.906666666666666,\n",
       "   62.22666666666667,\n",
       "   64.96,\n",
       "   67.43333333333334,\n",
       "   69.86666666666666,\n",
       "   72.38,\n",
       "   76.03333333333333,\n",
       "   78.09333333333333],\n",
       "  'up_center_single_down_center_single': [None,\n",
       "   None,\n",
       "   None,\n",
       "   None,\n",
       "   None,\n",
       "   None,\n",
       "   None,\n",
       "   None,\n",
       "   None,\n",
       "   None,\n",
       "   None,\n",
       "   None,\n",
       "   None,\n",
       "   None,\n",
       "   None,\n",
       "   None,\n",
       "   None,\n",
       "   None,\n",
       "   None]},\n",
       " 'test_accuracy': [14.025,\n",
       "  19.305,\n",
       "  27.026666666666667,\n",
       "  32.62833333333333,\n",
       "  39.04833333333333,\n",
       "  45.07666666666667,\n",
       "  52.00666666666667,\n",
       "  57.07333333333333,\n",
       "  63.221666666666664,\n",
       "  67.70833333333333,\n",
       "  71.82,\n",
       "  75.35,\n",
       "  78.62666666666667,\n",
       "  81.01,\n",
       "  83.14833333333333,\n",
       "  85.115,\n",
       "  86.59833333333333,\n",
       "  88.425,\n",
       "  89.605]}"
      ]
     },
     "execution_count": 5,
     "metadata": {},
     "output_type": "execute_result"
    }
   ],
   "source": [
    "data"
   ]
  },
  {
   "cell_type": "code",
   "execution_count": 6,
   "id": "c85b9eb6",
   "metadata": {},
   "outputs": [
    {
     "name": "stdout",
     "output_type": "stream",
     "text": [
      "[14.025, 19.305, 27.026666666666667, 32.62833333333333, 39.04833333333333, 45.07666666666667, 52.00666666666667, 57.07333333333333, 63.221666666666664, 67.70833333333333, 71.82, 75.35, 78.62666666666667, 81.01, 83.14833333333333, 85.115, 86.59833333333333, 88.425, 89.605]\n"
     ]
    }
   ],
   "source": [
    "print(data.get('test_accuracy'))"
   ]
  },
  {
   "cell_type": "code",
   "execution_count": 7,
   "id": "b8bbb5e8",
   "metadata": {},
   "outputs": [
    {
     "name": "stdout",
     "output_type": "stream",
     "text": [
      "19\n"
     ]
    }
   ],
   "source": [
    "print(data.get('epoch'))"
   ]
  },
  {
   "cell_type": "code",
   "execution_count": 29,
   "id": "f5dacd16",
   "metadata": {},
   "outputs": [],
   "source": [
    "X = [0, 1, 2, 3, 4, 5, 6, 7, 8, 9, 10, 11, 12, 13, 14, 15, 16, 17, 18]\n",
    "test_accuracy = [14.025, 19.305, 27.026666666666667, 32.62833333333333, 39.04833333333333, 45.07666666666667, 52.00666666666667, 57.07333333333333, 63.221666666666664, 67.70833333333333, 71.82, 75.35, 78.62666666666667, 81.01, 83.14833333333333, 85.115, 86.59833333333333, 88.425, 89.605]\n",
    "test_acc_main = [14.226666666666667, 18.405, 25.16, 31.538333333333334, 38.19, 44.27333333333333, 50.81666666666667, 57.098333333333336, 62.985, 68.08333333333333, 72.80833333333334, 76.68333333333334, 79.61333333333333, 82.43833333333333, 85.13166666666666, 87.105, 88.62, 90.10833333333333, 91.58166666666666]\n",
    "test_acc_level_changes = [14.005, 16.201666666666668, 23.241666666666667, 28.08, 30.961666666666666, 33.825, 36.36, 38.075, 40.22833333333333, 42.05833333333333, 43.71, 45.365, 47.00666666666667, 48.42333333333333, 50.498333333333335, 52.46666666666667, 53.76833333333333, 55.85166666666667, 57]"
   ]
  },
  {
   "cell_type": "code",
   "execution_count": 35,
   "id": "0a146c15",
   "metadata": {},
   "outputs": [
    {
     "data": {
      "image/png": "[encoded data removed]",
      "text/plain": [
       "<Figure size 720x360 with 1 Axes>"
      ]
     },
     "metadata": {
      "needs_background": "light"
     },
     "output_type": "display_data"
    }
   ],
   "source": [
    "plt_1 = plt.figure(figsize=(10, 5))\n",
    "plt.plot(X, test_accuracy, color='red', label='SAR')\n",
    "plt.plot(X, test_acc_main, color='blue', label='Proposed Model')\n",
    "plt.plot(X, test_acc_level_changes, color='green', label='Analyzed Model')\n",
    "plt.xlabel('epoch')\n",
    "plt.ylabel('Test Accuracy')\n",
    "plt.title('Comparison of Proposed Model on I-RAVEN dataset')\n",
    "plt.legend()\n",
    "plt.savefig('epoch_vs_testacc.jpeg')\n",
    "plt.show()"
   ]
  },
  {
   "cell_type": "code",
   "execution_count": 18,
   "id": "b9453d93",
   "metadata": {},
   "outputs": [
    {
     "name": "stdout",
     "output_type": "stream",
     "text": [
      "Showing the pickled data:\n",
      "The data  0  is :  epoch\n",
      "The data  1  is :  t\n",
      "The data  2  is :  accuracy\n",
      "The data  3  is :  acc_regime\n",
      "The data  4  is :  test_accuracy\n"
     ]
    }
   ],
   "source": [
    "import pickle\n",
    "\n",
    "# open a file, where you stored the pickled data\n",
    "file = open('Proposed_Model/peformance.pickle', 'rb')\n",
    "\n",
    "# dump information to that file\n",
    "data = pickle.load(file)\n",
    "\n",
    "# close the file\n",
    "file.close()\n",
    "\n",
    "print('Showing the pickled data:')\n",
    "\n",
    "cnt = 0\n",
    "for item in data:\n",
    "    print('The data ', cnt, ' is : ', item)\n",
    "    cnt += 1"
   ]
  },
  {
   "cell_type": "code",
   "execution_count": 19,
   "id": "427eab2e",
   "metadata": {},
   "outputs": [
    {
     "name": "stdout",
     "output_type": "stream",
     "text": [
      "[14.226666666666667, 18.405, 25.16, 31.538333333333334, 38.19, 44.27333333333333, 50.81666666666667, 57.098333333333336, 62.985, 68.08333333333333, 72.80833333333334, 76.68333333333334, 79.61333333333333, 82.43833333333333, 85.13166666666666, 87.105, 88.62, 90.10833333333333, 91.58166666666666, 92.51666666666667, 93.77, 94.57333333333334, 95.24833333333333, 95.61666666666666, 96.37833333333333]\n"
     ]
    }
   ],
   "source": [
    "print(data.get('test_accuracy'))"
   ]
  },
  {
   "cell_type": "code",
   "execution_count": 20,
   "id": "7e709dcb",
   "metadata": {},
   "outputs": [
    {
     "name": "stdout",
     "output_type": "stream",
     "text": [
      "25\n"
     ]
    }
   ],
   "source": [
    "print(data.get('epoch'))"
   ]
  },
  {
   "cell_type": "code",
   "execution_count": null,
   "id": "db404fba",
   "metadata": {},
   "outputs": [],
   "source": []
  },
  {
   "cell_type": "code",
   "execution_count": 24,
   "id": "86a4b7ac",
   "metadata": {},
   "outputs": [
    {
     "name": "stdout",
     "output_type": "stream",
     "text": [
      "Showing the pickled data:\n",
      "The data  0  is :  epoch\n",
      "The data  1  is :  t\n",
      "The data  2  is :  accuracy\n",
      "The data  3  is :  acc_regime\n",
      "The data  4  is :  test_accuracy\n"
     ]
    }
   ],
   "source": [
    "import pickle\n",
    "\n",
    "# open a file, where you stored the pickled data\n",
    "file = open('Level_changes/peformance.pickle', 'rb')\n",
    "\n",
    "# dump information to that file\n",
    "data = pickle.load(file)\n",
    "\n",
    "# close the file\n",
    "file.close()\n",
    "\n",
    "print('Showing the pickled data:')\n",
    "\n",
    "cnt = 0\n",
    "for item in data:\n",
    "    print('The data ', cnt, ' is : ', item)\n",
    "    cnt += 1"
   ]
  },
  {
   "cell_type": "code",
   "execution_count": 25,
   "id": "8cccdc9c",
   "metadata": {},
   "outputs": [
    {
     "name": "stdout",
     "output_type": "stream",
     "text": [
      "[14.005, 16.201666666666668, 23.241666666666667, 28.08, 30.961666666666666, 33.825, 36.36, 38.075, 40.22833333333333, 42.05833333333333, 43.71, 45.365, 47.00666666666667, 48.42333333333333, 50.498333333333335, 52.46666666666667, 53.76833333333333, 55.85166666666667]\n"
     ]
    }
   ],
   "source": [
    "print(data.get('test_accuracy'))"
   ]
  },
  {
   "cell_type": "code",
   "execution_count": 26,
   "id": "9a036513",
   "metadata": {},
   "outputs": [
    {
     "name": "stdout",
     "output_type": "stream",
     "text": [
      "18\n"
     ]
    }
   ],
   "source": [
    "print(data.get('epoch'))"
   ]
  }
 ],
 "metadata": {
  "kernelspec": {
   "display_name": "Python 3 (ipykernel)",
   "language": "python",
   "name": "python3"
  },
  "language_info": {
   "codemirror_mode": {
    "name": "ipython",
    "version": 3
   },
   "file_extension": ".py",
   "mimetype": "text/x-python",
   "name": "python",
   "nbconvert_exporter": "python",
   "pygments_lexer": "ipython3",
   "version": "3.6.9"
  }
 },
 "nbformat": 4,
 "nbformat_minor": 5
}
